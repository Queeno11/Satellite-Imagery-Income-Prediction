{
 "cells": [
  {
   "cell_type": "markdown",
   "metadata": {},
   "source": [
    "NO TENGO LAS BASES PARA CORRERLAS, ESTAN EN MECON"
   ]
  },
  {
   "cell_type": "code",
   "execution_count": 2,
   "metadata": {},
   "outputs": [],
   "source": [
    "##############      Configuración      ##############\n",
    "import os\n",
    "import pandas as pd\n",
    "import geopandas as gpd\n",
    "import seaborn as sns\n",
    "import matplotlib.pyplot as plt\n",
    "import numpy as np\n",
    "from typing import List, Dict\n",
    "from PIL import Image\n",
    "from dotenv import dotenv_values\n",
    "\n",
    "pd.set_option('display.max_columns', None)\n",
    "env = dotenv_values(\"globals.env\")\n",
    "\n",
    "path_proyecto   = env['PATH_PROYECTO']    \n",
    "path_datain     = env['PATH_DATAIN']\n",
    "path_dataout    = env['PATH_DATAOUT']\n",
    "path_scripts    = env['PATH_SCRIPTS']    \n",
    "path_satelites  = env['PATH_SATELITES']\n",
    "path_logs       = env['PATH_LOGS']     \n",
    "path_outputs    = env['PATH_OUTPUTS']     \n",
    "# path_programas  = globales[7]"
   ]
  },
  {
   "cell_type": "code",
   "execution_count": 3,
   "metadata": {},
   "outputs": [],
   "source": [
    "import affine\n",
    "import geopandas as gpd\n",
    "import rasterio.features\n",
    "import xarray as xr\n",
    "import shapely.geometry as sg\n",
    "import pandas as pd \n",
    "\n",
    "def polygonize(da: xr.DataArray) -> gpd.GeoDataFrame:\n",
    "    \"\"\"\n",
    "    Polygonize a 2D-DataArray into a GeoDataFrame of polygons.\n",
    "\n",
    "    Parameters\n",
    "    ----------\n",
    "    da : xr.DataArray\n",
    "\n",
    "    Returns\n",
    "    -------\n",
    "    polygonized : geopandas.GeoDataFrame\n",
    "    \"\"\"\n",
    "    if da.dims != (\"y\", \"x\"):\n",
    "        raise ValueError('Dimensions must be (\"y\", \"x\")')\n",
    "\n",
    "    values = da.values\n",
    "    transform = da.attrs.get(\"transform\", None)\n",
    "    if transform is None:\n",
    "        raise ValueError(\"transform is required in da.attrs\")\n",
    "    transform = affine.Affine(*transform)\n",
    "    shapes = rasterio.features.shapes(values, transform=transform)\n",
    "\n",
    "    geometries = []\n",
    "    colvalues = []\n",
    "    for (geom, colval) in shapes:\n",
    "        geometries.append(sg.Polygon(geom[\"coordinates\"][0]))\n",
    "        colvalues.append(colval)\n",
    "\n",
    "    gdf = gpd.GeoDataFrame({\"value\": colvalues, \"geometry\": geometries})\n",
    "    gdf.crs = da.attrs.get(\"crs\")\n",
    "    return gdf\n"
   ]
  },
  {
   "cell_type": "code",
   "execution_count": 7,
   "metadata": {},
   "outputs": [
    {
     "data": {
      "text/plain": [
       "'D:\\\\Maestría\\\\Tesis\\\\Repo\\\\data\\\\data_in\\\\WSF 2015 AMBA.tif'"
      ]
     },
     "execution_count": 7,
     "metadata": {},
     "output_type": "execute_result"
    }
   ],
   "source": [
    "urbanData = xr.open_dataset(f'{path_datain}\\WSF 2015 - Urbanizacion\\WSF 2015 AMBA.tif')"
   ]
  },
  {
   "cell_type": "code",
   "execution_count": 8,
   "metadata": {},
   "outputs": [
    {
     "ename": "DriverError",
     "evalue": "R:\\Shapefiles\\ICPAG\\Sin barrios pop y cerr\\Aglomerados de mas de 500k habitantes\\base_icpag_500k.shp: No such file or directory",
     "output_type": "error",
     "traceback": [
      "\u001b[1;31m---------------------------------------------------------------------------\u001b[0m",
      "\u001b[1;31mCPLE_OpenFailedError\u001b[0m                      Traceback (most recent call last)",
      "File \u001b[1;32mfiona\\_shim.pyx:83\u001b[0m, in \u001b[0;36mfiona._shim.gdal_open_vector\u001b[1;34m()\u001b[0m\n",
      "File \u001b[1;32mfiona\\_err.pyx:291\u001b[0m, in \u001b[0;36mfiona._err.exc_wrap_pointer\u001b[1;34m()\u001b[0m\n",
      "\u001b[1;31mCPLE_OpenFailedError\u001b[0m: R:\\Shapefiles\\ICPAG\\Sin barrios pop y cerr\\Aglomerados de mas de 500k habitantes\\base_icpag_500k.shp: No such file or directory",
      "\nDuring handling of the above exception, another exception occurred:\n",
      "\u001b[1;31mDriverError\u001b[0m                               Traceback (most recent call last)",
      "Cell \u001b[1;32mIn[8], line 3\u001b[0m\n\u001b[0;32m      1\u001b[0m \u001b[39m# Load data\u001b[39;00m\n\u001b[0;32m      2\u001b[0m urbanData \u001b[39m=\u001b[39m xr\u001b[39m.\u001b[39mopen_dataset(\u001b[39mf\u001b[39m\u001b[39m'\u001b[39m\u001b[39m{\u001b[39;00mpath_datain\u001b[39m}\u001b[39;00m\u001b[39m\\\u001b[39m\u001b[39mWSF 2015 - Urbanizacion\u001b[39m\u001b[39m\\\u001b[39m\u001b[39mWSF 2015 AMBA.tif\u001b[39m\u001b[39m'\u001b[39m)\u001b[39m.\u001b[39msqueeze(\u001b[39m'\u001b[39m\u001b[39mband\u001b[39m\u001b[39m'\u001b[39m, drop\u001b[39m=\u001b[39m\u001b[39mTrue\u001b[39;00m)\n\u001b[1;32m----> 3\u001b[0m icpag \u001b[39m=\u001b[39m gpd\u001b[39m.\u001b[39;49mread_file(\n\u001b[0;32m      4\u001b[0m     \u001b[39mr\u001b[39;49m\u001b[39m\"\u001b[39;49m\u001b[39mR:\u001b[39;49m\u001b[39m\\\u001b[39;49m\u001b[39mShapefiles\u001b[39;49m\u001b[39m\\\u001b[39;49m\u001b[39mICPAG\u001b[39;49m\u001b[39m\\\u001b[39;49m\u001b[39mSin barrios pop y cerr\u001b[39;49m\u001b[39m\\\u001b[39;49m\u001b[39mAglomerados de mas de 500k habitantes\u001b[39;49m\u001b[39m\\\u001b[39;49m\u001b[39mbase_icpag_500k.shp\u001b[39;49m\u001b[39m\"\u001b[39;49m\n\u001b[0;32m      5\u001b[0m )\n\u001b[0;32m      6\u001b[0m collapse_link \u001b[39m=\u001b[39m pd\u001b[39m.\u001b[39mread_stata(\u001b[39mr\u001b[39m\u001b[39m\"\u001b[39m\u001b[39mD:\u001b[39m\u001b[39m\\\u001b[39m\u001b[39mMECON\u001b[39m\u001b[39m\\\u001b[39m\u001b[39m7. Ingreso Esperado\u001b[39m\u001b[39m\\\u001b[39m\u001b[39mdata\u001b[39m\u001b[39m\\\u001b[39m\u001b[39mdata_out\u001b[39m\u001b[39m\\\u001b[39m\u001b[39m7.10 Small Area Estimation (Nico)\u001b[39m\u001b[39m\\\u001b[39m\u001b[39mpredict_ingreso_collapse.dta\u001b[39m\u001b[39m\"\u001b[39m)\n",
      "File \u001b[1;32mc:\\Users\\ofici\\AppData\\Local\\Programs\\Python\\Python311\\Lib\\site-packages\\geopandas\\io\\file.py:281\u001b[0m, in \u001b[0;36m_read_file\u001b[1;34m(filename, bbox, mask, rows, engine, **kwargs)\u001b[0m\n\u001b[0;32m    278\u001b[0m     \u001b[39melse\u001b[39;00m:\n\u001b[0;32m    279\u001b[0m         path_or_bytes \u001b[39m=\u001b[39m filename\n\u001b[1;32m--> 281\u001b[0m     \u001b[39mreturn\u001b[39;00m _read_file_fiona(\n\u001b[0;32m    282\u001b[0m         path_or_bytes, from_bytes, bbox\u001b[39m=\u001b[39;49mbbox, mask\u001b[39m=\u001b[39;49mmask, rows\u001b[39m=\u001b[39;49mrows, \u001b[39m*\u001b[39;49m\u001b[39m*\u001b[39;49mkwargs\n\u001b[0;32m    283\u001b[0m     )\n\u001b[0;32m    285\u001b[0m \u001b[39melse\u001b[39;00m:\n\u001b[0;32m    286\u001b[0m     \u001b[39mraise\u001b[39;00m \u001b[39mValueError\u001b[39;00m(\u001b[39mf\u001b[39m\u001b[39m\"\u001b[39m\u001b[39munknown engine \u001b[39m\u001b[39m'\u001b[39m\u001b[39m{\u001b[39;00mengine\u001b[39m}\u001b[39;00m\u001b[39m'\u001b[39m\u001b[39m\"\u001b[39m)\n",
      "File \u001b[1;32mc:\\Users\\ofici\\AppData\\Local\\Programs\\Python\\Python311\\Lib\\site-packages\\geopandas\\io\\file.py:322\u001b[0m, in \u001b[0;36m_read_file_fiona\u001b[1;34m(path_or_bytes, from_bytes, bbox, mask, rows, where, **kwargs)\u001b[0m\n\u001b[0;32m    319\u001b[0m     reader \u001b[39m=\u001b[39m fiona\u001b[39m.\u001b[39mopen\n\u001b[0;32m    321\u001b[0m \u001b[39mwith\u001b[39;00m fiona_env():\n\u001b[1;32m--> 322\u001b[0m     \u001b[39mwith\u001b[39;00m reader(path_or_bytes, \u001b[39m*\u001b[39;49m\u001b[39m*\u001b[39;49mkwargs) \u001b[39mas\u001b[39;00m features:\n\u001b[0;32m    323\u001b[0m         crs \u001b[39m=\u001b[39m features\u001b[39m.\u001b[39mcrs_wkt\n\u001b[0;32m    324\u001b[0m         \u001b[39m# attempt to get EPSG code\u001b[39;00m\n",
      "File \u001b[1;32mc:\\Users\\ofici\\AppData\\Local\\Programs\\Python\\Python311\\Lib\\site-packages\\fiona\\env.py:408\u001b[0m, in \u001b[0;36mensure_env_with_credentials.<locals>.wrapper\u001b[1;34m(*args, **kwargs)\u001b[0m\n\u001b[0;32m    405\u001b[0m \u001b[39m@wraps\u001b[39m(f)\n\u001b[0;32m    406\u001b[0m \u001b[39mdef\u001b[39;00m \u001b[39mwrapper\u001b[39m(\u001b[39m*\u001b[39margs, \u001b[39m*\u001b[39m\u001b[39m*\u001b[39mkwargs):\n\u001b[0;32m    407\u001b[0m     \u001b[39mif\u001b[39;00m local\u001b[39m.\u001b[39m_env:\n\u001b[1;32m--> 408\u001b[0m         \u001b[39mreturn\u001b[39;00m f(\u001b[39m*\u001b[39;49margs, \u001b[39m*\u001b[39;49m\u001b[39m*\u001b[39;49mkwargs)\n\u001b[0;32m    409\u001b[0m     \u001b[39melse\u001b[39;00m:\n\u001b[0;32m    410\u001b[0m         \u001b[39mif\u001b[39;00m \u001b[39misinstance\u001b[39m(args[\u001b[39m0\u001b[39m], \u001b[39mstr\u001b[39m):\n",
      "File \u001b[1;32mc:\\Users\\ofici\\AppData\\Local\\Programs\\Python\\Python311\\Lib\\site-packages\\fiona\\__init__.py:267\u001b[0m, in \u001b[0;36mopen\u001b[1;34m(fp, mode, driver, schema, crs, encoding, layer, vfs, enabled_drivers, crs_wkt, **kwargs)\u001b[0m\n\u001b[0;32m    264\u001b[0m     path \u001b[39m=\u001b[39m parse_path(fp)\n\u001b[0;32m    266\u001b[0m \u001b[39mif\u001b[39;00m mode \u001b[39min\u001b[39;00m (\u001b[39m'\u001b[39m\u001b[39ma\u001b[39m\u001b[39m'\u001b[39m, \u001b[39m'\u001b[39m\u001b[39mr\u001b[39m\u001b[39m'\u001b[39m):\n\u001b[1;32m--> 267\u001b[0m     c \u001b[39m=\u001b[39m Collection(path, mode, driver\u001b[39m=\u001b[39;49mdriver, encoding\u001b[39m=\u001b[39;49mencoding,\n\u001b[0;32m    268\u001b[0m                    layer\u001b[39m=\u001b[39;49mlayer, enabled_drivers\u001b[39m=\u001b[39;49menabled_drivers, \u001b[39m*\u001b[39;49m\u001b[39m*\u001b[39;49mkwargs)\n\u001b[0;32m    269\u001b[0m \u001b[39melif\u001b[39;00m mode \u001b[39m==\u001b[39m \u001b[39m'\u001b[39m\u001b[39mw\u001b[39m\u001b[39m'\u001b[39m:\n\u001b[0;32m    270\u001b[0m     \u001b[39mif\u001b[39;00m schema:\n\u001b[0;32m    271\u001b[0m         \u001b[39m# Make an ordered dict of schema properties.\u001b[39;00m\n",
      "File \u001b[1;32mc:\\Users\\ofici\\AppData\\Local\\Programs\\Python\\Python311\\Lib\\site-packages\\fiona\\collection.py:162\u001b[0m, in \u001b[0;36mCollection.__init__\u001b[1;34m(self, path, mode, driver, schema, crs, encoding, layer, vsi, archive, enabled_drivers, crs_wkt, ignore_fields, ignore_geometry, **kwargs)\u001b[0m\n\u001b[0;32m    160\u001b[0m \u001b[39mif\u001b[39;00m \u001b[39mself\u001b[39m\u001b[39m.\u001b[39mmode \u001b[39m==\u001b[39m \u001b[39m'\u001b[39m\u001b[39mr\u001b[39m\u001b[39m'\u001b[39m:\n\u001b[0;32m    161\u001b[0m     \u001b[39mself\u001b[39m\u001b[39m.\u001b[39msession \u001b[39m=\u001b[39m Session()\n\u001b[1;32m--> 162\u001b[0m     \u001b[39mself\u001b[39;49m\u001b[39m.\u001b[39;49msession\u001b[39m.\u001b[39;49mstart(\u001b[39mself\u001b[39;49m, \u001b[39m*\u001b[39;49m\u001b[39m*\u001b[39;49mkwargs)\n\u001b[0;32m    163\u001b[0m \u001b[39melif\u001b[39;00m \u001b[39mself\u001b[39m\u001b[39m.\u001b[39mmode \u001b[39min\u001b[39;00m (\u001b[39m'\u001b[39m\u001b[39ma\u001b[39m\u001b[39m'\u001b[39m, \u001b[39m'\u001b[39m\u001b[39mw\u001b[39m\u001b[39m'\u001b[39m):\n\u001b[0;32m    164\u001b[0m     \u001b[39mself\u001b[39m\u001b[39m.\u001b[39msession \u001b[39m=\u001b[39m WritingSession()\n",
      "File \u001b[1;32mfiona\\ogrext.pyx:540\u001b[0m, in \u001b[0;36mfiona.ogrext.Session.start\u001b[1;34m()\u001b[0m\n",
      "File \u001b[1;32mfiona\\_shim.pyx:90\u001b[0m, in \u001b[0;36mfiona._shim.gdal_open_vector\u001b[1;34m()\u001b[0m\n",
      "\u001b[1;31mDriverError\u001b[0m: R:\\Shapefiles\\ICPAG\\Sin barrios pop y cerr\\Aglomerados de mas de 500k habitantes\\base_icpag_500k.shp: No such file or directory"
     ]
    }
   ],
   "source": [
    "# Load data\n",
    "urbanData = xr.open_dataset(f'{path_datain}\\WSF 2015 - Urbanizacion\\WSF 2015 AMBA.tif').squeeze('band', drop=True)\n",
    "icpag = gpd.read_file(\n",
    "    r\"R:\\Shapefiles\\ICPAG\\Sin barrios pop y cerr\\Aglomerados de mas de 500k habitantes\\base_icpag_500k.shp\"\n",
    ")\n",
    "collapse_link = pd.read_stata(r\"D:\\MECON\\7. Ingreso Esperado\\data\\data_out\\7.10 Small Area Estimation (Nico)\\predict_ingreso_collapse.dta\")"
   ]
  },
  {
   "cell_type": "code",
   "execution_count": null,
   "metadata": {},
   "outputs": [],
   "source": [
    "# Merge icpag indicators with ELL estimation\n",
    "icpag['link'] = icpag['link'].astype(str).str.zfill(9)\n",
    "collapse_link['link'] = collapse_link['link'].astype(str).str.zfill(9)\n",
    "\n",
    "icpag = icpag.merge(collapse_link, on='link', how='left', validate='1:1')"
   ]
  },
  {
   "cell_type": "code",
   "execution_count": null,
   "metadata": {},
   "outputs": [],
   "source": [
    "# Get a single shape of the AMBA\n",
    "icpag = icpag.to_crs(4326)\n",
    "amba_polygon = icpag[icpag.AMBA_legal == 1].dissolve().geometry\n",
    "bounds = amba_polygon.bounds\n",
    "\n",
    "# Polygonize the urban data and keep only the AMBA\n",
    "wsf2015 = polygonize(urbanData)\n",
    "wsf2015 = wsf2015.to_crs(4326)\n",
    "\n",
    "minx=bounds.minx.values[0]\n",
    "maxx=bounds.maxx.values[0]\n",
    "miny=bounds.miny.values[0]\n",
    "maxy=bounds.maxy.values[0]\n",
    "\n",
    "# Clip geodataframe based on bounding box\n",
    "wsf2015_amba = wsf2015.cx[minx:maxx, miny:maxy]\n",
    "\n",
    "# Keep only urban areas from wsf\n",
    "wsf2015_amba = wsf2015_amba[wsf2015_amba.value != 0]\n",
    "wsf2015_amba['urban'] = True\n",
    "wsf2015_amba = wsf2015_amba.drop(columns='value')\n",
    "\n",
    "# Crop census tracts based on urban wsd2015\n",
    "wsf2015_amba = wsf2015.clip(amba_polygon.values[0])"
   ]
  },
  {
   "cell_type": "code",
   "execution_count": null,
   "metadata": {},
   "outputs": [],
   "source": [
    "# Keep only urban areas from wsf\n",
    "wsf2015_amba = wsf2015_amba[wsf2015_amba.value != 0]\n",
    "wsf2015_amba['urban'] = True\n",
    "wsf2015_amba = wsf2015_amba.drop(columns='value')\n",
    "\n",
    "# Crop esf2015 based on shape of AMBA\n",
    "wsf2015_amba = wsf2015_amba.clip(amba_polygon.values[0])"
   ]
  },
  {
   "cell_type": "code",
   "execution_count": null,
   "metadata": {},
   "outputs": [],
   "source": [
    "wsf2015_amba.plot()"
   ]
  },
  {
   "cell_type": "code",
   "execution_count": null,
   "metadata": {},
   "outputs": [],
   "source": [
    "# Save shapefile\n",
    "wsf2015_amba_poly = wsf2015_amba.dissolve()\n",
    "wsf2015_amba_poly.to_file(f'{path_dataout}\\wsf2015_amba.shp')"
   ]
  },
  {
   "cell_type": "code",
   "execution_count": null,
   "metadata": {},
   "outputs": [],
   "source": [
    "# Set wsf in meter crs for Argentina (Gauss-Kruger zone 5 - faja 5)\n",
    "#   see: https://www.ign.gob.ar/NuestrasActividades/ProduccionCartografica/sistemas-de-proyeccion\n",
    "wsf2015_amba_poly = wsf2015_amba_poly.to_crs(5348)\n",
    "icpag = icpag.to_crs(5348)\n",
    "amba_polygon = amba_polygon.to_crs(5348)\n",
    "\n",
    "# Clip census tracts based on urban/rural wsd2015\n",
    "urban_mask = wsf2015_amba_poly\n",
    "urban = icpag[icpag.AMBA_legal == 1].clip(urban_mask)\n",
    "urban['urban'] = True\n",
    "\n",
    "rural_mask = amba_polygon.difference(wsf2015_amba_poly.buffer(100)) # 1-urban_mask\n",
    "rural = icpag[icpag.AMBA_legal == 1].clip(rural_mask)\n",
    "rural['urban'] = False\n",
    "\n",
    "both = pd.concat([urban, rural])"
   ]
  },
  {
   "cell_type": "code",
   "execution_count": null,
   "metadata": {},
   "outputs": [],
   "source": [
    "# Update data for rural areas\n",
    "indicator_cols = [\n",
    "    'rmin',\n",
    "    'rmax',\n",
    "    'rminp50',\n",
    "    'rminp25',\n",
    "    'rminp75',\n",
    "    'rmaxp50',\n",
    "    'rmaxp25',\n",
    "    'rmaxp75',\n",
    "    'p_usd',\n",
    "    'pm2',\n",
    "    'obs_pm2',\n",
    "    'pm2_2019',\n",
    "    'obs_pm2_19',\n",
    "    'p_usd_2019',\n",
    "    'personas',\n",
    "    'viv_part',\n",
    "    'icv2010',\n",
    "    'nbi_rc',\n",
    "]\n",
    "for col in indicator_cols:\n",
    "    both.loc[both.urban == False, col] = 0\n",
    "\n",
    "both.to_file(f'{path_dataout}\\census_tracts_with_indicators.shp')\n",
    "both.to_feather(f'{path_dataout}\\census_tracts_with_indicators.feather')"
   ]
  },
  {
   "cell_type": "code",
   "execution_count": null,
   "metadata": {},
   "outputs": [],
   "source": [
    "import geopandas as gpd\n",
    "df = gpd.read_feather(f'{path_dataout}\\census_tracts_with_indicators.feather')"
   ]
  },
  {
   "cell_type": "code",
   "execution_count": null,
   "metadata": {},
   "outputs": [],
   "source": [
    "df[(df.link == \"061190403\") & (df.urban == True)].explore(tiles=\"https://services.arcgisonline.com/arcgis/rest/services/World_Imagery/MapServer/tile/{z}/{y}/{x}\", attr=\"asd\")"
   ]
  },
  {
   "cell_type": "code",
   "execution_count": null,
   "metadata": {},
   "outputs": [],
   "source": [
    "both['urban'] = both['urban'].astype(int)\n",
    "both.explore(column='urban')"
   ]
  }
 ],
 "metadata": {
  "kernelspec": {
   "display_name": "Python 3.9.10 64-bit",
   "language": "python",
   "name": "python3"
  },
  "language_info": {
   "codemirror_mode": {
    "name": "ipython",
    "version": 3
   },
   "file_extension": ".py",
   "mimetype": "text/x-python",
   "name": "python",
   "nbconvert_exporter": "python",
   "pygments_lexer": "ipython3",
   "version": "3.11.4"
  },
  "orig_nbformat": 4,
  "vscode": {
   "interpreter": {
    "hash": "11938c6bc6919ae2720b4d5011047913343b08a43b18698fd82dedb0d4417594"
   }
  }
 },
 "nbformat": 4,
 "nbformat_minor": 2
}
