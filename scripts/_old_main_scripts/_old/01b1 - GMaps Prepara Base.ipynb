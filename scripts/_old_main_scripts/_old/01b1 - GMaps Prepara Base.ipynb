{
 "cells": [
  {
   "cell_type": "code",
   "execution_count": null,
   "metadata": {},
   "outputs": [],
   "source": [
    "##############      Configuración      ##############\n",
    "from dotenv import dotenv_values\n",
    "from plantilla import plantilla\n",
    "\n",
    "env = dotenv_values(\"globals.env\")\n",
    "\n",
    "proyecto = 'Códigos'\n",
    "subproyecto = 'Testing - Deep Learning con MapTilesDownloader'\n",
    "\n",
    "globales = plantilla(proyecto=proyecto, \n",
    "                     subproyecto=subproyecto,\n",
    "                     path_proyectos=env['PATH_PROYECTOS']\n",
    "           )\n",
    "\n",
    "path_proyecto   = globales[0]     # Ubicación de la carpeta del Proyecto\n",
    "path_datain     = globales[1]\n",
    "path_dataout    = globales[2]     # Bases procesadas por tus scripts\n",
    "path_scripts    = globales[3]\n",
    "path_figures    = globales[4]     # Output para las figuras/gráficos\n",
    "path_maps       = globales[5]     # Output para los mapas (html o imagen)\n",
    "path_tables     = globales[6]     # Output para las tablas (imagen o excel)\n",
    "path_programas  = globales[7]"
   ]
  },
  {
   "cell_type": "code",
   "execution_count": 9,
   "metadata": {},
   "outputs": [],
   "source": [
    "import numpy as np\n",
    "import geopandas as gpd\n",
    "icpag = gpd.read_file(r\"R:\\Shapefiles\\ICPAG\\Sin barrios pop y cerr\\Aglomerados de mas de 500k habitantes\\base_icpag_500k.shp\")\n",
    "icpag = icpag.to_crs(epsg=3857)"
   ]
  },
  {
   "cell_type": "code",
   "execution_count": null,
   "metadata": {},
   "outputs": [],
   "source": [
    "import cartopy.io.img_tiles as cimgt\n",
    "\n",
    "icpag = icpag.reset_index(drop=True)\n",
    "icpag_amba = icpag[icpag.AMBA_legal == 1]\n",
    "icpag_amba = icpag_amba[icpag_amba.area <= 1_000_000] # Aprox p90\n",
    "icpag_amba = icpag_amba.reset_index(drop=True)\n",
    "\n",
    "map_provider = cimgt.GoogleTiles(style='satellite')"
   ]
  },
  {
   "cell_type": "code",
   "execution_count": null,
   "metadata": {},
   "outputs": [],
   "source": [
    "icpag_amba"
   ]
  },
  {
   "cell_type": "code",
   "execution_count": null,
   "metadata": {},
   "outputs": [],
   "source": [
    "import gc\n",
    "from shapely.geometry import box\n",
    "\n",
    "import cartopy.crs as crs\n",
    "import cartopy.io.img_tiles as cimgt\n",
    "import cartopy.feature as cfeature\n",
    "\n",
    "import seaborn as sns; sns.set(style=\"ticks\", color_codes=True)\n",
    "import matplotlib.pyplot as plt\n",
    "import matplotlib.colors as colors \n",
    "from matplotlib.patches import Patch\n",
    "from matplotlib_scalebar.scalebar import ScaleBar\n",
    "\n",
    "from PIL import Image\n",
    "\n",
    "icpag.iloc[0:1,:]\n",
    "\n",
    "def create_map_from_geometry(\n",
    "    icpag, index, \n",
    "    map_provider=map_provider, zoom=18, map_name='ESRI_WI',  \n",
    "    path_figures=path_figures):\n",
    "\n",
    "    Image.MAX_IMAGE_PIXELS = 2160000 \n",
    "    # Genero la máscara para el gráfico y obtengo el extent\n",
    "    mask_inv = icpag.iloc[index:index+1,:]\n",
    "    link = mask_inv.at[index,'link']\n",
    "    bbox = mask_inv.total_bounds\n",
    "    geom =box(*bbox)\n",
    "    mask = mask_inv.copy()\n",
    "    mask['geometry'] = geom\n",
    "\n",
    "    # Gráfico\n",
    "    fig, ax = plt.subplots(subplot_kw={'projection': crs.epsg(3857)}, dpi=300, facecolor = 'black')\n",
    "\n",
    "    # Limita la visualización a un área determinada\n",
    "    ax.set_extent(\n",
    "        [bbox[0], bbox[2], bbox[1], bbox[3]],\n",
    "        crs=crs.epsg(3857)\n",
    "    )\n",
    "\n",
    "    # Agrego mapa de fondo\n",
    "    ax.add_image(map_provider, zoom)\n",
    "\n",
    "    # # Quito bordes y grilla\n",
    "    ax.spines['geo'].set_edgecolor('black')\n",
    "\n",
    "    # # Añade la máscara\n",
    "    mask.difference(mask_inv).plot(ax=ax, facecolor='black', edgecolor='black', linewidth=0.0) \n",
    "    plt.tight_layout()\n",
    "    \n",
    "    fig.savefig(fr\"{path_figures}\\{map_name}_{link}_{index}.tiff\")\n",
    "    plt.close()\n",
    "    gc.collect()"
   ]
  },
  {
   "cell_type": "code",
   "execution_count": null,
   "metadata": {},
   "outputs": [],
   "source": [
    "import pandas as pd\n",
    "icpag_amba_a = icpag_amba.set_index('link').loc['064277201':'064414308',:]\n",
    "icpag_amba_b = icpag_amba.set_index('link').loc['067562706':,:]\n",
    "icpag_amba = pd.concat([icpag_amba_a,icpag_amba_b]).reset_index()\n",
    "\n",
    "list = np.array_split(range(icpag_amba.shape[0]), 2)"
   ]
  },
  {
   "cell_type": "code",
   "execution_count": null,
   "metadata": {},
   "outputs": [],
   "source": [
    "from tqdm import tqdm\n",
    "for index in tqdm(list[0]):\n",
    "    create_map_from_geometry(icpag_amba, index, map_name='Google_maps')"
   ]
  },
  {
   "cell_type": "code",
   "execution_count": null,
   "metadata": {},
   "outputs": [],
   "source": [
    "import os\n",
    "dir = r'R:\\Tesis Nico\\Códigos\\outputs\\figures\\Testing - Deep Learning con MapTilesDownloader'\n",
    "os.listdir(dir)"
   ]
  },
  {
   "cell_type": "code",
   "execution_count": null,
   "metadata": {},
   "outputs": [],
   "source": [
    "import re\n",
    "comp = re.compile('_\\d+.tiff')\n",
    "re.sub(comp,'.tiff', 'ESRI_WI_020010101_0.tiff')"
   ]
  },
  {
   "cell_type": "code",
   "execution_count": 8,
   "metadata": {},
   "outputs": [
    {
     "name": "stderr",
     "output_type": "stream",
     "text": [
      "100%|██████████| 28153/28153 [04:27<00:00, 105.23it/s]\n"
     ]
    }
   ],
   "source": [
    "import os\n",
    "import re\n",
    "from tqdm import tqdm\n",
    "# [os.rename(f, f.replace('_', '-')) for f in os.listdir('.') if not f.startswith('.')]\n",
    "comp = re.compile('_\\d+.tiff')\n",
    "\n",
    "for f in tqdm(os.listdir(dir)[10:]):\n",
    "    if not f.startswith(dir):\n",
    "        new_name = re.sub(comp,'.tiff', f'{dir}\\\\{f}')\n",
    "        if not os.path.exists(new_name):\n",
    "            os.rename(f'{dir}\\\\{f}', new_name)\n"
   ]
  },
  {
   "cell_type": "code",
   "execution_count": null,
   "metadata": {},
   "outputs": [],
   "source": [
    "f =  dir + '\\\\' + 'ESRI_WI_020010101_0.tiff'\n",
    "os.rename(f, re.sub(comp,'.tiff', f))"
   ]
  },
  {
   "cell_type": "code",
   "execution_count": null,
   "metadata": {},
   "outputs": [],
   "source": [
    "os.listdir(dir)[:10]"
   ]
  }
 ],
 "metadata": {
  "kernelspec": {
   "display_name": "Python 3.9.10 64-bit",
   "language": "python",
   "name": "python3"
  },
  "language_info": {
   "codemirror_mode": {
    "name": "ipython",
    "version": 3
   },
   "file_extension": ".py",
   "mimetype": "text/x-python",
   "name": "python",
   "nbconvert_exporter": "python",
   "pygments_lexer": "ipython3",
   "version": "3.9.10"
  },
  "orig_nbformat": 4,
  "vscode": {
   "interpreter": {
    "hash": "11938c6bc6919ae2720b4d5011047913343b08a43b18698fd82dedb0d4417594"
   }
  }
 },
 "nbformat": 4,
 "nbformat_minor": 2
}
